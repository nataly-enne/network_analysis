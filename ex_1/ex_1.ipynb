{
 "cells": [
  {
   "attachments": {},
   "cell_type": "markdown",
   "metadata": {},
   "source": [
    "\n",
    "1. Define:\n",
    "\n",
    "\t(a) Subgraph\n",
    "    **É um grafo formado por um subconjunto de vértices e arestas do grafo original, onde as arestas só conectam os vértices presentes no subconjunto**\n",
    "\t(b) Bipartite graph.\n",
    "    **Um grafo bipartido é aquele em que os vértices podem ser separados em dois conjuntos disjuntos, U e V, de forma que todas as arestas conectam um vértice de U a um vértice de V.**\n",
    "\t\n",
    "\t(c) Hamiltonian graph\n",
    "    **É um grafo em que é possível percorrê-lo passando por cada vértice exatamente uma vez e retornando ao vértice de partida.**\n",
    "\t\n",
    "\t(d) Eulerian graph.\n",
    "    **Podemos dizer que o Grafo Eureliano significa basicamente percorrer o grafo passando por cada aresta exatamente uma vez e retornando ao vértice de partida.**\n",
    "\n",
    "2. Describe how a breadth-first search algorithm works.\n",
    "**é um método para percorrer um grafo que explora os vértices em largura, ou seja, deve-se começar o percurso a partir de um nó selecionado (nó de origem ou inicial) e percorrer o grafo em camadas, explorando os nós vizinhos (nós que estão diretamente conectados ao nó de origem). Em seguida, deve-se avançar para os nós vizinhos do próximo nível.**\n",
    "\n",
    "1. How many edges does a complete graph with n vertices have? What about a complete directed graph with n vertices?\n",
    "    **- Grafo completo com n vértices possui n(n-1)/2 arestas.**\n",
    "    **- Grafo completo direcionado com n vértices possui n(n-1) arestas**\n",
    "\n",
    "2. What are isomorphic graphs? Draw an example.\n",
    "**São grafos que têm a mesma estrutura. Em outras palavras, dois grafos são isomorfos se puderem ser transformados um no outro por meio de uma renumeração de seus vértices.**\n",
    "\n",
    "Exemplo:\n",
    "\n",
    "```\n",
    "Grafo 1       Grafo 2\n",
    "    A           X\n",
    "   / \\         / \\\n",
    "  B   C       Y   Z\n",
    " /     \\     /     \\\n",
    "D-------E   W-------V\n",
    "\n",
    "```"
   ]
  },
  {
   "attachments": {},
   "cell_type": "markdown",
   "metadata": {},
   "source": [
    "1. Calculate the degree of the nodes for both node types in the bipartite adjacency matrix from the figure below. Find the isolated node(s).\n",
    "\n",
    "![adjacency matrix](./img/matrix01.png)"
   ]
  },
  {
   "attachments": {},
   "cell_type": "markdown",
   "metadata": {},
   "source": [
    "6. Given the digraph `G = (V, E)` where `V = {M, N, O, P, Q, R, S}` and \n",
    "\n",
    "`E ={(M, S), (N, O), (P, R), (N, S), (O, M),\n",
    "\t (N, Q), (O, M), (P, P), (S, M), (O, N), \n",
    "\t (S, M), (N, R), (P, M), (M, S)}`\n",
    "\n",
    "\t(a) Specify, if any, a simple path from vertex M to vertex S.\n",
    "\n",
    "\t(b) Specify, if any, a simple cycle, involving at least 4 nodes.\n",
    "\n",
    "\t(c) Is the digraph connected or not connected?\n",
    "\n",
    "\t(d) What is the degree of vertices N and R.\n",
    "\n",
    "\t(e) Represent the digraph using adjacency list representation.\n",
    "\n",
    "\t(f) Represent the digraph using adjacency matrix representation."
   ]
  },
  {
   "attachments": {},
   "cell_type": "markdown",
   "metadata": {},
   "source": [
    "7. Draw the undirected and directed versions of the graph G(V, E), where V = {1, 2, 3, 4, 5, 6} and E = {(2, 5), (6, 1), (5, 3), (2, 3)}."
   ]
  },
  {
   "cell_type": "code",
   "execution_count": 3,
   "metadata": {},
   "outputs": [
    {
     "ename": "ModuleNotFoundError",
     "evalue": "No module named 'networkx'",
     "output_type": "error",
     "traceback": [
      "\u001b[0;31m---------------------------------------------------------------------------\u001b[0m",
      "\u001b[0;31mModuleNotFoundError\u001b[0m                       Traceback (most recent call last)",
      "Cell \u001b[0;32mIn[3], line 1\u001b[0m\n\u001b[0;32m----> 1\u001b[0m \u001b[39mimport\u001b[39;00m \u001b[39mnetworkx\u001b[39;00m \u001b[39mas\u001b[39;00m \u001b[39mnx\u001b[39;00m\n\u001b[1;32m      2\u001b[0m \u001b[39mimport\u001b[39;00m \u001b[39mmatplotlib\u001b[39;00m\u001b[39m.\u001b[39;00m\u001b[39mpyplot\u001b[39;00m \u001b[39mas\u001b[39;00m \u001b[39mplt\u001b[39;00m\n\u001b[1;32m      4\u001b[0m \u001b[39m# ão direcionado\u001b[39;00m\n",
      "\u001b[0;31mModuleNotFoundError\u001b[0m: No module named 'networkx'"
     ]
    }
   ],
   "source": [
    "import networkx as nx\n",
    "import matplotlib.pyplot as plt\n",
    "\n",
    "# ão direcionado\n",
    "G_undirected = nx.Graph()\n",
    "V = {1, 2, 3, 4, 5, 6}\n",
    "E = [(2, 5), (6, 1), (5, 3), (2, 3)]\n",
    "G_undirected.add_nodes_from(V)\n",
    "G_undirected.add_edges_from(E)\n",
    "\n",
    "# grafo direcionado\n",
    "G_directed = nx.DiGraph()\n",
    "G_directed.add_nodes_from(V)\n",
    "G_directed.add_edges_from(E)\n",
    "\n",
    "# draw nao direcionad\n",
    "plt.subplot(121)\n",
    "nx.draw(G_undirected, with_labels=True, font_weight='bold')\n",
    "\n",
    "# draw direcionado\n",
    "plt.subplot(122)\n",
    "nx.draw(G_directed, with_labels=True, font_weight='bold', arrowstyle='->')\n",
    "\n",
    "plt.tight_layout()\n",
    "plt.show()\n"
   ]
  },
  {
   "attachments": {},
   "cell_type": "markdown",
   "metadata": {},
   "source": [
    "\n",
    "8. How many edges does a graph have 3 vertices of degree 3 and one vertex of degree 5?\n",
    "\n",
    "9.  Mr. A is friend with Mrs. B, but she doesn't like him back. She has a reciprocal friendship with both C and D, but only C considers D a friend. D has also sent friend requests to E, F, G, and H but, so far, only G replied. G also has a reciprocal relationship with A. Draw the corresponding directed graph.\n",
    "\n",
    "10. Draw the graph from the previous exercise as undirected and weighted, with the weight being 2 if the connection is reciprocal, 1 otherwise.\n"
   ]
  }
 ],
 "metadata": {
  "kernelspec": {
   "display_name": "Python 3",
   "language": "python",
   "name": "python3"
  },
  "language_info": {
   "codemirror_mode": {
    "name": "ipython",
    "version": 3
   },
   "file_extension": ".py",
   "mimetype": "text/x-python",
   "name": "python",
   "nbconvert_exporter": "python",
   "pygments_lexer": "ipython3",
   "version": "3.11.0"
  },
  "orig_nbformat": 4
 },
 "nbformat": 4,
 "nbformat_minor": 2
}
